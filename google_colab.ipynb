{
  "cells": [
    {
      "cell_type": "markdown",
      "metadata": {
        "id": "WAJ7lA2wuvR8"
      },
      "source": [
        "# 运行教程\n",
        "\n",
        "1. 点击“修改” -> \"笔记本设置\" -> \"硬件加速器GPU\" -> 保存\n",
        "<img src=\"https://z3.ax1x.com/2021/03/30/ciQWWV.png\">\n",
        "\n",
        "2. 点左侧文件夹图标，上传视频文件，复制上传的视频路径\n",
        "\n",
        "<img src=\"https://z3.ax1x.com/2021/03/30/cilvhq.png\">\n",
        "\n",
        "3. 运行代码， 输入粘贴的视频路径\n",
        "\n",
        "\n"
      ]
    },
    {
      "cell_type": "markdown",
      "metadata": {
        "id": "_jPi_FBwyZyr"
      },
      "source": [
        "查看是否有GPU"
      ]
    },
    {
      "cell_type": "code",
      "execution_count": 8,
      "metadata": {
        "id": "eHPHc_Bheo-j",
        "colab": {
          "base_uri": "https://localhost:8080/"
        },
        "outputId": "89233fee-210b-4ece-c5de-c608073203b7"
      },
      "outputs": [
        {
          "output_type": "stream",
          "name": "stdout",
          "text": [
            "Sun Jul 20 12:38:59 2025       \n",
            "+-----------------------------------------------------------------------------------------+\n",
            "| NVIDIA-SMI 550.54.15              Driver Version: 550.54.15      CUDA Version: 12.4     |\n",
            "|-----------------------------------------+------------------------+----------------------+\n",
            "| GPU  Name                 Persistence-M | Bus-Id          Disp.A | Volatile Uncorr. ECC |\n",
            "| Fan  Temp   Perf          Pwr:Usage/Cap |           Memory-Usage | GPU-Util  Compute M. |\n",
            "|                                         |                        |               MIG M. |\n",
            "|=========================================+========================+======================|\n",
            "|   0  Tesla T4                       Off |   00000000:00:04.0 Off |                    0 |\n",
            "| N/A   40C    P8              9W /   70W |       0MiB /  15360MiB |      0%      Default |\n",
            "|                                         |                        |                  N/A |\n",
            "+-----------------------------------------+------------------------+----------------------+\n",
            "                                                                                         \n",
            "+-----------------------------------------------------------------------------------------+\n",
            "| Processes:                                                                              |\n",
            "|  GPU   GI   CI        PID   Type   Process name                              GPU Memory |\n",
            "|        ID   ID                                                               Usage      |\n",
            "|=========================================================================================|\n",
            "|  No running processes found                                                             |\n",
            "+-----------------------------------------------------------------------------------------+\n"
          ]
        }
      ],
      "source": [
        "!nvidia-smi"
      ]
    },
    {
      "cell_type": "code",
      "execution_count": 9,
      "metadata": {
        "id": "TkQKKGKZkkT2",
        "colab": {
          "base_uri": "https://localhost:8080/"
        },
        "outputId": "4e3fe5c2-3dc4-468a-eadd-3d34e40114c1"
      },
      "outputs": [
        {
          "output_type": "stream",
          "name": "stdout",
          "text": [
            "nvcc: NVIDIA (R) Cuda compiler driver\n",
            "Copyright (c) 2005-2024 NVIDIA Corporation\n",
            "Built on Thu_Jun__6_02:18:23_PDT_2024\n",
            "Cuda compilation tools, release 12.5, V12.5.82\n",
            "Build cuda_12.5.r12.5/compiler.34385749_0\n"
          ]
        }
      ],
      "source": [
        "!nvcc -V"
      ]
    },
    {
      "cell_type": "markdown",
      "metadata": {
        "id": "_85O6zgPyhto"
      },
      "source": [
        "# 安装依赖"
      ]
    },
    {
      "cell_type": "code",
      "execution_count": 10,
      "metadata": {
        "id": "ICeq0T1FeqjT",
        "colab": {
          "base_uri": "https://localhost:8080/"
        },
        "outputId": "61c60fd1-8a57-4bf3-8c81-4fd4bfb8c8a7"
      },
      "outputs": [
        {
          "output_type": "stream",
          "name": "stdout",
          "text": [
            "Cloning into 'video-subtitle-extractor'...\n",
            "remote: Enumerating objects: 193, done.\u001b[K\n",
            "remote: Counting objects: 100% (193/193), done.\u001b[K\n",
            "remote: Compressing objects: 100% (177/177), done.\u001b[K\n",
            "remote: Total 193 (delta 15), reused 160 (delta 11), pack-reused 0 (from 0)\u001b[K\n",
            "Receiving objects: 100% (193/193), 964.97 MiB | 16.75 MiB/s, done.\n",
            "Resolving deltas: 100% (15/15), done.\n",
            "Updating files: 100% (162/162), done.\n"
          ]
        }
      ],
      "source": [
        "!git clone --depth=1 https://github.com/YaoFANGUK/video-subtitle-extractor.git"
      ]
    },
    {
      "cell_type": "code",
      "execution_count": null,
      "metadata": {
        "id": "GHutEWynkMKR"
      },
      "outputs": [],
      "source": [
        "cd video-subtitle-extractor"
      ]
    },
    {
      "cell_type": "code",
      "execution_count": null,
      "metadata": {
        "id": "ynJydzo1kMKR"
      },
      "outputs": [],
      "source": [
        "!pip install -r requirements_gpu.txt"
      ]
    },
    {
      "cell_type": "code",
      "execution_count": null,
      "metadata": {
        "id": "3-GdvmaGl-aF"
      },
      "outputs": [],
      "source": [
        "!pip install paddlepaddle-gpu==2.4.2.post117 -f https://www.paddlepaddle.org.cn/whl/linux/mkl/avx/stable.html"
      ]
    },
    {
      "cell_type": "markdown",
      "metadata": {
        "id": "SGb0i3tPyw9Q"
      },
      "source": [
        "# 运行程序"
      ]
    },
    {
      "cell_type": "markdown",
      "metadata": {
        "id": "X8HLt6Mr100c"
      },
      "source": [
        "输入视频路径，如：/content/videoplayback.mp4\n",
        "\n",
        "输入字幕区域，如：842 1069 72 1368"
      ]
    },
    {
      "cell_type": "code",
      "execution_count": null,
      "metadata": {
        "id": "B2MPjMOOgGbD"
      },
      "outputs": [],
      "source": [
        "!python ./backend/main.py"
      ]
    }
  ],
  "metadata": {
    "accelerator": "GPU",
    "colab": {
      "name": "video-subtitle-extractor.ipynb",
      "provenance": []
    },
    "kernelspec": {
      "display_name": "Python 3 (ipykernel)",
      "language": "python",
      "name": "python3"
    },
    "language_info": {
      "codemirror_mode": {
        "name": "ipython",
        "version": 3
      },
      "file_extension": ".py",
      "mimetype": "text/x-python",
      "name": "python",
      "nbconvert_exporter": "python",
      "pygments_lexer": "ipython3",
      "version": "3.8.5"
    }
  },
  "nbformat": 4,
  "nbformat_minor": 0
}